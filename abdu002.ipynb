{
  "nbformat": 4,
  "nbformat_minor": 0,
  "metadata": {
    "colab": {
      "provenance": [],
      "authorship_tag": "ABX9TyNHUoFqOvRfuFihd3gRPQaZ",
      "include_colab_link": true
    },
    "kernelspec": {
      "name": "python3",
      "display_name": "Python 3"
    },
    "language_info": {
      "name": "python"
    }
  },
  "cells": [
    {
      "cell_type": "markdown",
      "metadata": {
        "id": "view-in-github",
        "colab_type": "text"
      },
      "source": [
        "<a href=\"https://colab.research.google.com/github/abdurahuman6669-ops/DSA/blob/main/abdu002.ipynb\" target=\"_parent\"><img src=\"https://colab.research.google.com/assets/colab-badge.svg\" alt=\"Open In Colab\"/></a>"
      ]
    },
    {
      "cell_type": "markdown",
      "source": [],
      "metadata": {
        "id": "INaVyIFBgjy0"
      }
    },
    {
      "cell_type": "markdown",
      "source": [
        "1"
      ],
      "metadata": {
        "id": "fX_cdXxOgkTW"
      }
    },
    {
      "cell_type": "code",
      "execution_count": 1,
      "metadata": {
        "colab": {
          "base_uri": "https://localhost:8080/"
        },
        "id": "3dwCJxwygQtb",
        "outputId": "5af93203-ee03-4f50-af86-4c7ace6e4c56"
      },
      "outputs": [
        {
          "output_type": "stream",
          "name": "stdout",
          "text": [
            "Reshaped array:\n",
            " [[10 11 12 13 14 15 16 17 18 19]\n",
            " [20 21 22 23 24 25 26 27 28 29]\n",
            " [30 31 32 33 34 35 36 37 38 39]\n",
            " [40 41 42 43 44 45 46 47 48 49]]\n",
            "Last column:\n",
            " [19 29 39 49]\n"
          ]
        }
      ],
      "source": [
        "import numpy as np\n",
        "\n",
        "arr = np.arange(10, 50)\n",
        "reshaped = arr.reshape(4, 10)\n",
        "last_column = reshaped[:, -1]\n",
        "\n",
        "print(\"Reshaped array:\\n\", reshaped)\n",
        "print(\"Last column:\\n\", last_column)\n"
      ]
    },
    {
      "cell_type": "markdown",
      "source": [],
      "metadata": {
        "id": "M5Uk1WeOgphY"
      }
    },
    {
      "cell_type": "markdown",
      "source": [
        "2"
      ],
      "metadata": {
        "id": "h_GWpNKYgqTN"
      }
    },
    {
      "cell_type": "code",
      "source": [
        "matrix1 = np.full((3, 3), 5)\n",
        "matrix2 = np.arange(1, 10).reshape(3, 3)\n",
        "\n",
        "added = matrix1 + matrix2\n",
        "multiplied = matrix1 * matrix2\n",
        "transposed = multiplied.T\n",
        "\n",
        "print(\"Added:\\n\", added)\n",
        "print(\"Element-wise multiplied:\\n\", multiplied)\n",
        "print(\"Transpose:\\n\", transposed)\n"
      ],
      "metadata": {
        "id": "RM1CH6_XgvP3"
      },
      "execution_count": null,
      "outputs": []
    },
    {
      "cell_type": "markdown",
      "source": [],
      "metadata": {
        "id": "r6Z8YCxjgydV"
      }
    },
    {
      "cell_type": "markdown",
      "source": [
        "3\n"
      ],
      "metadata": {
        "id": "fM0i8L1Og0HT"
      }
    },
    {
      "cell_type": "code",
      "source": [
        "rand_arr = np.random.randint(10, 101, size=15)\n",
        "modified = rand_arr.copy()\n",
        "modified[modified > 50] = -1\n",
        "replaced_count = np.sum(rand_arr > 50)\n",
        "\n",
        "print(\"Original:\\n\", rand_arr)\n",
        "print(\"Modified:\\n\", modified)\n",
        "print(\"Count replaced:\", replaced_count)\n"
      ],
      "metadata": {
        "colab": {
          "base_uri": "https://localhost:8080/"
        },
        "id": "Rtet7baDg1gp",
        "outputId": "d5b77549-55af-441e-baa5-1144332bad0f"
      },
      "execution_count": 2,
      "outputs": [
        {
          "output_type": "stream",
          "name": "stdout",
          "text": [
            "Original:\n",
            " [36 19 37 38 29 34 31 73 77 72 22 19 96 97 76]\n",
            "Modified:\n",
            " [36 19 37 38 29 34 31 -1 -1 -1 22 19 -1 -1 -1]\n",
            "Count replaced: 6\n"
          ]
        }
      ]
    },
    {
      "cell_type": "markdown",
      "source": [],
      "metadata": {
        "id": "TvPIpap8hBI4"
      }
    },
    {
      "cell_type": "markdown",
      "source": [
        "4"
      ],
      "metadata": {
        "id": "M_WoEDCxhBjp"
      }
    },
    {
      "cell_type": "code",
      "source": [
        "arr = np.random.rand(5, 4)\n",
        "row_sums = arr.sum(axis=1)\n",
        "max_row_index = np.argmax(row_sums)\n",
        "\n",
        "# Normalize: (x - min) / (max - min) per row\n",
        "row_min = arr.min(axis=1).reshape(-1, 1)\n",
        "row_max = arr.max(axis=1).reshape(-1, 1)\n",
        "normalized = (arr - row_min) / (row_max - row_min)\n",
        "\n",
        "print(\"Array:\\n\", arr)\n",
        "print(\"Row with max sum:\", max_row_index)\n",
        "print(\"Normalized:\\n\", normalized)\n"
      ],
      "metadata": {
        "colab": {
          "base_uri": "https://localhost:8080/"
        },
        "id": "VkrdKkGHhGU4",
        "outputId": "5b82dacb-74c4-42ac-9af1-89ce7275bd1c"
      },
      "execution_count": 3,
      "outputs": [
        {
          "output_type": "stream",
          "name": "stdout",
          "text": [
            "Array:\n",
            " [[0.66261429 0.01649012 0.71281395 0.94500258]\n",
            " [0.31682195 0.75436477 0.01017577 0.9967986 ]\n",
            " [0.10528124 0.83952737 0.48333169 0.04243807]\n",
            " [0.98428044 0.2606419  0.06566402 0.66539886]\n",
            " [0.87564032 0.88791883 0.43275889 0.17150496]]\n",
            "Row with max sum: 4\n",
            "Normalized:\n",
            " [[0.69587021 0.         0.74993483 1.        ]\n",
            " [0.31080385 0.75427912 0.         1.        ]\n",
            " [0.07884081 1.         0.55312951 0.        ]\n",
            " [1.         0.21225168 0.         0.65286754]\n",
            " [0.98286115 1.         0.364669   0.        ]]\n"
          ]
        }
      ]
    },
    {
      "cell_type": "markdown",
      "source": [],
      "metadata": {
        "id": "hTHaH-Atha1V"
      }
    },
    {
      "cell_type": "markdown",
      "source": [
        "5"
      ],
      "metadata": {
        "id": "6FOLoteShbPn"
      }
    },
    {
      "cell_type": "code",
      "source": [
        "arr = np.array([1, 3, 5, 3, 7, 1, 5, 5])\n",
        "unique_elements = np.unique(arr)\n",
        "duplicates = np.unique(arr[arr[np.isin(arr, arr[np.unique(np.where(np.bincount(arr) > 1)[0])])]])\n",
        "\n",
        "from collections import Counter\n",
        "duplicates = np.array([item for item, count in Counter(arr).items() if count > 1])\n",
        "\n",
        "print(\"Unique elements:\", unique_elements)\n",
        "print(\"Duplicates:\", duplicates)\n"
      ],
      "metadata": {
        "colab": {
          "base_uri": "https://localhost:8080/"
        },
        "id": "V3bh33Ejhdhn",
        "outputId": "45a83a30-ea7a-410f-8682-40ea19f9cae8"
      },
      "execution_count": 6,
      "outputs": [
        {
          "output_type": "stream",
          "name": "stdout",
          "text": [
            "Unique elements: [1 3 5 7]\n",
            "Duplicates: [1 3 5]\n"
          ]
        }
      ]
    },
    {
      "cell_type": "markdown",
      "source": [],
      "metadata": {
        "id": "hgH-MpS6h0Xl"
      }
    },
    {
      "cell_type": "markdown",
      "source": [
        "6"
      ],
      "metadata": {
        "id": "eulOCSfph0vT"
      }
    },
    {
      "cell_type": "code",
      "source": [
        "arr = np.arange(1, 37).reshape(6, 6)\n",
        "middle = arr[1:5, 1:5]\n",
        "even_numbers = middle[middle % 2 == 0]\n",
        "\n",
        "print(\"Middle 4x4:\\n\", middle)\n",
        "print(\"Even numbers:\\n\", even_numbers)\n"
      ],
      "metadata": {
        "colab": {
          "base_uri": "https://localhost:8080/"
        },
        "id": "JJBiQ6G6h6hy",
        "outputId": "987c5620-dc6e-4b8b-f88a-b50649ce19dc"
      },
      "execution_count": 7,
      "outputs": [
        {
          "output_type": "stream",
          "name": "stdout",
          "text": [
            "Middle 4x4:\n",
            " [[ 8  9 10 11]\n",
            " [14 15 16 17]\n",
            " [20 21 22 23]\n",
            " [26 27 28 29]]\n",
            "Even numbers:\n",
            " [ 8 10 14 16 20 22 26 28]\n"
          ]
        }
      ]
    },
    {
      "cell_type": "markdown",
      "source": [],
      "metadata": {
        "id": "zDX67K_mh8U5"
      }
    },
    {
      "cell_type": "markdown",
      "source": [
        "7"
      ],
      "metadata": {
        "id": "1c77BvxCh8ro"
      }
    },
    {
      "cell_type": "code",
      "source": [
        "arr = np.arange(12).reshape(3, 4)\n",
        "reshaped = arr.reshape(2, 6)\n",
        "flattened = reshaped.flatten()\n",
        "reshaped_back = flattened.reshape(4, 3)\n",
        "\n",
        "print(\"Original:\\n\", arr)\n",
        "print(\"Reshaped (2x6):\\n\", reshaped)\n",
        "print(\"Flattened:\", flattened)\n",
        "print(\"Reshaped to (4x3):\\n\", reshaped_back)\n"
      ],
      "metadata": {
        "colab": {
          "base_uri": "https://localhost:8080/"
        },
        "id": "hytAxFERh-6F",
        "outputId": "2b705684-adfb-4411-f432-a91b51fbf696"
      },
      "execution_count": 8,
      "outputs": [
        {
          "output_type": "stream",
          "name": "stdout",
          "text": [
            "Original:\n",
            " [[ 0  1  2  3]\n",
            " [ 4  5  6  7]\n",
            " [ 8  9 10 11]]\n",
            "Reshaped (2x6):\n",
            " [[ 0  1  2  3  4  5]\n",
            " [ 6  7  8  9 10 11]]\n",
            "Flattened: [ 0  1  2  3  4  5  6  7  8  9 10 11]\n",
            "Reshaped to (4x3):\n",
            " [[ 0  1  2]\n",
            " [ 3  4  5]\n",
            " [ 6  7  8]\n",
            " [ 9 10 11]]\n"
          ]
        }
      ]
    },
    {
      "cell_type": "markdown",
      "source": [],
      "metadata": {
        "id": "VhB_cNBniZ1K"
      }
    },
    {
      "cell_type": "markdown",
      "source": [
        "8"
      ],
      "metadata": {
        "id": "d6PSSxHniaNX"
      }
    },
    {
      "cell_type": "code",
      "source": [
        "a = np.array([[1, 2], [3, 4]])\n",
        "a = np.vstack([a, [5, 6]])\n",
        "a = np.column_stack([a, [7, 8, 9]])\n",
        "\n",
        "print(\"Final array:\\n\", a)\n"
      ],
      "metadata": {
        "colab": {
          "base_uri": "https://localhost:8080/"
        },
        "id": "gu6W-3InifGn",
        "outputId": "32e5022d-cf34-4747-ca47-94943faccfbd"
      },
      "execution_count": 9,
      "outputs": [
        {
          "output_type": "stream",
          "name": "stdout",
          "text": [
            "Final array:\n",
            " [[1 2 7]\n",
            " [3 4 8]\n",
            " [5 6 9]]\n"
          ]
        }
      ]
    },
    {
      "cell_type": "markdown",
      "source": [],
      "metadata": {
        "id": "0uuyJEzhihI0"
      }
    },
    {
      "cell_type": "markdown",
      "source": [
        "9"
      ],
      "metadata": {
        "id": "pOJvKZ3jihsA"
      }
    },
    {
      "cell_type": "code",
      "source": [
        "a = np.array([1, 2, 3])\n",
        "b = np.array([4, 5, 6])\n",
        "c = np.array([7, 8, 9])\n",
        "\n",
        "joined = np.concatenate([a, b, c])\n",
        "reshaped = joined.reshape(3, 3)\n",
        "diagonal = np.diag(reshaped)\n",
        "\n",
        "print(\"Matrix:\\n\", reshaped)\n",
        "print(\"Diagonal:\", diagonal)\n"
      ],
      "metadata": {
        "id": "lfB0RXbUij8k"
      },
      "execution_count": null,
      "outputs": []
    },
    {
      "cell_type": "markdown",
      "source": [],
      "metadata": {
        "id": "4BDXiA7jiohh"
      }
    },
    {
      "cell_type": "markdown",
      "source": [
        "10"
      ],
      "metadata": {
        "id": "cT4eMhtqipHy"
      }
    },
    {
      "cell_type": "code",
      "source": [
        "arr = np.arange(1, 21)\n",
        "divisible = arr[(arr % 3 == 0) | (arr % 5 == 0)]\n",
        "\n",
        "print(\"Values divisible by 3 or 5:\", divisible)\n"
      ],
      "metadata": {
        "colab": {
          "base_uri": "https://localhost:8080/"
        },
        "id": "AczsHfdyiqw8",
        "outputId": "19af0dad-381f-4ef3-cd32-8c3d0eabf74b"
      },
      "execution_count": 10,
      "outputs": [
        {
          "output_type": "stream",
          "name": "stdout",
          "text": [
            "Values divisible by 3 or 5: [ 3  5  6  9 10 12 15 18 20]\n"
          ]
        }
      ]
    }
  ]
}